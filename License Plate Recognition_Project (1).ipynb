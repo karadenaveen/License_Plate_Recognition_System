{
 "cells": [
  {
   "cell_type": "code",
   "execution_count": null,
   "id": "4f6642a5-1bff-4f8a-9b16-bebc8d713ec5",
   "metadata": {},
   "outputs": [],
   "source": [
    "import cv2\n",
    "import numpy as np\n",
    "\n",
    "# Load the pre-trained Haar cascade classifier for license plates\n",
    "plate_cascade = cv2.CascadeClassifier(cv2.data.haarcascades + 'haarcascade_russian_plate_number.xml')\n",
    "\n",
    "# Function to detect license plates in the image\n",
    "def detect_license_plate(image_path):\n",
    "    # Load the image\n",
    "    image = cv2.imread(r\"C:\\Users\\NAVEENKUMAR\\Documents\\test_License_Recognition_project\\test\\test\\russ_car.jpg\")\n",
    "\n",
    "    # Convert the image to grayscale\n",
    "    gray = cv2.cvtColor(image, cv2.COLOR_BGR2GRAY)\n",
    "\n",
    "    # Detect license plates in the image\n",
    "    plates = plate_cascade.detectMultiScale(gray, 1.1, 10)\n",
    "\n",
    "    # Check if plates are found\n",
    "    if len(plates) == 0:\n",
    "        print(\"No license plate detected.\")\n",
    "        return\n",
    "\n",
    "    # Loop through all detected plates and draw rectangles around them\n",
    "    for (x, y, w, h) in plates:\n",
    "        # Draw a rectangle around the detected license plate\n",
    "        cv2.rectangle(image, (x, y), (x + w, y + h), (255, 0, 0), 2)\n",
    "\n",
    "        # Crop the detected license plate region\n",
    "        license_plate = image[y:y+h, x:x+w]\n",
    "\n",
    "        # Optionally, show the cropped license plate\n",
    "        cv2.imshow(\"License Plate\", license_plate)\n",
    "\n",
    "    # Display the image with the detected license plate(s)\n",
    "    cv2.imshow('Detected License Plate', image)\n",
    "\n",
    "    # Wait for a key press and close all windows\n",
    "    cv2.waitKey(0)\n",
    "    cv2.destroyAllWindows()\n",
    "\n",
    "# Test the function\n",
    "detect_license_plate(r\"C:\\Users\\NAVEENKUMAR\\Downloads\\test_License_Recognition_project\\test\\test\\russ_car.jpg\")  # Replace with the path to your car image"
   ]
  },
  {
   "cell_type": "code",
   "execution_count": null,
   "id": "41a8e515-cdd6-4ce2-8016-1d62fff8e0c3",
   "metadata": {},
   "outputs": [],
   "source": [
    "import pytesseract\n",
    "\n",
    "# Function to recognize text (license plate number)\n",
    "def recognize_license_plate_text(license_plate_image):\n",
    "    # Convert the cropped image to grayscale\n",
    "    gray_plate = cv2.cvtColor(license_plate_image, cv2.COLOR_BGR2GRAY)\n",
    "\n",
    "    # Optionally, apply thresholding or other preprocessing\n",
    "    threshold_plate = cv2.threshold(gray_plate, 150, 255, cv2.THRESH_BINARY)\n",
    "\n",
    "    # Use Tesseract to extract text\n",
    "    plate_text = pytesseract.image_to_string(threshold_plate, config='--psm 8')  # psm 8 is for single word recognition\n",
    "\n",
    "    return plate_text.strip()\n",
    "\n",
    "# Example usage: Get the license plate text\n",
    "plate_text = recognize_license_plate_text(license_plate)\n",
    "print(f\"Detected License Plate Text: {plate_text}\")\n"
   ]
  },
  {
   "cell_type": "code",
   "execution_count": null,
   "id": "2656947e-a7bd-4f16-bbe9-34f9a7b60298",
   "metadata": {},
   "outputs": [],
   "source": []
  }
 ],
 "metadata": {
  "kernelspec": {
   "display_name": "Python 3 (ipykernel)",
   "language": "python",
   "name": "python3"
  },
  "language_info": {
   "codemirror_mode": {
    "name": "ipython",
    "version": 3
   },
   "file_extension": ".py",
   "mimetype": "text/x-python",
   "name": "python",
   "nbconvert_exporter": "python",
   "pygments_lexer": "ipython3",
   "version": "3.12.4"
  }
 },
 "nbformat": 4,
 "nbformat_minor": 5
}
